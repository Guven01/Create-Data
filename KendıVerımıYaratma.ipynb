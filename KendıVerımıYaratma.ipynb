{
 "cells": [
  {
   "cell_type": "code",
   "execution_count": 1,
   "id": "b2410e9d-2cf6-4772-849f-1c45d3a592a4",
   "metadata": {},
   "outputs": [],
   "source": [
    "import sqlite3\n",
    "baglantı=sqlite3.connect(r\"C://Users//HP//sqlitedbs//personel.db\")\n",
    "if(baglantı):\n",
    "    print({\"baglantı basarılı\"})\n",
    "else:\n",
    "    print({\"baglantı basarısız\"})\n",
    "\n",
    "def listele():\n",
    "    veriler=baglantı.cursor().execute(\"SELECT * from Kayit \")\n",
    "    print(veriler.fetchall())\n",
    "    baglantı.commit()\n",
    "    baglantı.close()\n",
    "\n",
    "def ekle(psıcılno, padısoyadı, pbolum, pmaas, pyıl):\n",
    "    con=baglantı.cursor()\n",
    "    con.execute(\"INSERT INTO Kayit values(?,?,?,?,?)\",(psıcılno, padısoyadı, pbolum, pmaas, pyıl))\n",
    "    baglantı.commit()\n",
    "    baglantı.close()\n",
    "    print(\"Kayıt İşlemi Gerçeklesmistir\")\n",
    " \n",
    "def sil(sno):\n",
    "    conn=baglantı.cursor()\n",
    "    conn.execute(\"Delete from Kayit where psıcılno =?\", (sno,))\n",
    "    baglantı.commit()\n",
    "    baglantı.close()\n",
    "    print(\"Kayıt Silindi\")\n",
    "\n",
    "\n",
    "\n",
    "Menu=\"\"\"\n",
    "1-KAYIT EKLE\n",
    "2-KAYITLARI LİSTELE\n",
    "3-KAYIT SİL\n",
    "\"\"\"\n",
    "\n",
    "print(Menu)\n",
    "print(\"lutfen bir secenek seciniz :\")\n",
    "islem_no=int(input())\n",
    "\n",
    "if(islem_no==1):\n",
    "    psıcılno=int(input(\"Personel SicilNo giriniz:\"))\n",
    "    padısoyadı=input(\"Personel Adı Soyadı giriniz:\")\n",
    "    pbolum=input(\"Personel Departmanını giriniz:\")\n",
    "    pmaas=float(input(\"Personel Maasını giriniz:\"))\n",
    "    pyıl=int(input(\"Personel Çalısma Yılını giriniz:\"))\n",
    "    ekle(psıcılno, padısoyadı, pbolum, pmaas, pyıl)\n",
    "elif(islem_no==2):\n",
    "    listele()\n",
    "elif(islem_no==3):\n",
    "    sno=int(input(\"Silinecek Personel Sicil Noyu Giriniz \"))\n",
    "    sil(sno)\n"
   ]
  },
  {
   "cell_type": "code",
   "execution_count": null,
   "id": "9c48c69d-3bf4-4e17-80d0-0a4de8f9fa20",
   "metadata": {},
   "outputs": [],
   "source": []
  }
 ],
 "metadata": {
  "kernelspec": {
   "display_name": "Python 3",
   "language": "python",
   "name": "python3"
  },
  "language_info": {
   "codemirror_mode": {
    "name": "ipython",
    "version": 3
   },
   "file_extension": ".py",
   "mimetype": "text/x-python",
   "name": "python",
   "nbconvert_exporter": "python",
   "pygments_lexer": "ipython3",
   "version": "3.7.11"
  }
 },
 "nbformat": 4,
 "nbformat_minor": 5
}
